{
 "cells": [
  {
   "cell_type": "code",
   "execution_count": 33,
   "metadata": {},
   "outputs": [],
   "source": [
    "import pandas as pd"
   ]
  },
  {
   "cell_type": "code",
   "execution_count": 34,
   "metadata": {},
   "outputs": [],
   "source": [
    "df_list_model = pd.read_csv('result/evaluation_result_final.csv')"
   ]
  },
  {
   "cell_type": "code",
   "execution_count": 35,
   "metadata": {},
   "outputs": [
    {
     "data": {
      "text/plain": [
       "'d:\\\\TA\\\\PL\\\\main_train_code'"
      ]
     },
     "execution_count": 35,
     "metadata": {},
     "output_type": "execute_result"
    }
   ],
   "source": [
    "import os\n",
    "os.getcwd()"
   ]
  },
  {
   "cell_type": "markdown",
   "metadata": {},
   "source": [
    "ASII"
   ]
  },
  {
   "cell_type": "code",
   "execution_count": 50,
   "metadata": {},
   "outputs": [],
   "source": [
    "df_model_for_asii = df_list_model.loc[df_list_model['stock'] == 'asii']"
   ]
  },
  {
   "cell_type": "code",
   "execution_count": 37,
   "metadata": {},
   "outputs": [
    {
     "data": {
      "text/html": [
       "<div>\n",
       "<style scoped>\n",
       "    .dataframe tbody tr th:only-of-type {\n",
       "        vertical-align: middle;\n",
       "    }\n",
       "\n",
       "    .dataframe tbody tr th {\n",
       "        vertical-align: top;\n",
       "    }\n",
       "\n",
       "    .dataframe thead th {\n",
       "        text-align: right;\n",
       "    }\n",
       "</style>\n",
       "<table border=\"1\" class=\"dataframe\">\n",
       "  <thead>\n",
       "    <tr style=\"text-align: right;\">\n",
       "      <th></th>\n",
       "      <th>Unnamed: 0</th>\n",
       "      <th>model_name</th>\n",
       "      <th>stock</th>\n",
       "      <th>timestep</th>\n",
       "      <th>mse</th>\n",
       "      <th>mae</th>\n",
       "      <th>rmse</th>\n",
       "      <th>r2</th>\n",
       "    </tr>\n",
       "  </thead>\n",
       "  <tbody>\n",
       "    <tr>\n",
       "      <th>0</th>\n",
       "      <td>0</td>\n",
       "      <td>asii_1_100_0.2_100_8.h5</td>\n",
       "      <td>asii</td>\n",
       "      <td>30</td>\n",
       "      <td>9775.456035</td>\n",
       "      <td>72.582751</td>\n",
       "      <td>98.870906</td>\n",
       "      <td>0.849240</td>\n",
       "    </tr>\n",
       "    <tr>\n",
       "      <th>1</th>\n",
       "      <td>1</td>\n",
       "      <td>asii_5_200_0_100_8.h5</td>\n",
       "      <td>asii</td>\n",
       "      <td>7</td>\n",
       "      <td>9470.391034</td>\n",
       "      <td>73.576119</td>\n",
       "      <td>97.315934</td>\n",
       "      <td>0.861528</td>\n",
       "    </tr>\n",
       "    <tr>\n",
       "      <th>2</th>\n",
       "      <td>2</td>\n",
       "      <td>asii_5_300_0_100_8.h5</td>\n",
       "      <td>asii</td>\n",
       "      <td>7</td>\n",
       "      <td>10422.393149</td>\n",
       "      <td>76.185053</td>\n",
       "      <td>102.090123</td>\n",
       "      <td>0.842965</td>\n",
       "    </tr>\n",
       "    <tr>\n",
       "      <th>3</th>\n",
       "      <td>3</td>\n",
       "      <td>asii_1_100_0.2_100_8.h5</td>\n",
       "      <td>asii</td>\n",
       "      <td>30</td>\n",
       "      <td>9775.456035</td>\n",
       "      <td>72.582751</td>\n",
       "      <td>98.870906</td>\n",
       "      <td>0.849240</td>\n",
       "    </tr>\n",
       "    <tr>\n",
       "      <th>4</th>\n",
       "      <td>4</td>\n",
       "      <td>asii_5_200_0_100_8.h5</td>\n",
       "      <td>asii</td>\n",
       "      <td>7</td>\n",
       "      <td>9470.391034</td>\n",
       "      <td>73.576119</td>\n",
       "      <td>97.315934</td>\n",
       "      <td>0.861528</td>\n",
       "    </tr>\n",
       "    <tr>\n",
       "      <th>5</th>\n",
       "      <td>5</td>\n",
       "      <td>asii_5_300_0_100_8.h5</td>\n",
       "      <td>asii</td>\n",
       "      <td>7</td>\n",
       "      <td>10422.393149</td>\n",
       "      <td>76.185053</td>\n",
       "      <td>102.090123</td>\n",
       "      <td>0.842965</td>\n",
       "    </tr>\n",
       "  </tbody>\n",
       "</table>\n",
       "</div>"
      ],
      "text/plain": [
       "   Unnamed: 0               model_name stock  timestep           mse  \\\n",
       "0           0  asii_1_100_0.2_100_8.h5  asii        30   9775.456035   \n",
       "1           1    asii_5_200_0_100_8.h5  asii         7   9470.391034   \n",
       "2           2    asii_5_300_0_100_8.h5  asii         7  10422.393149   \n",
       "3           3  asii_1_100_0.2_100_8.h5  asii        30   9775.456035   \n",
       "4           4    asii_5_200_0_100_8.h5  asii         7   9470.391034   \n",
       "5           5    asii_5_300_0_100_8.h5  asii         7  10422.393149   \n",
       "\n",
       "         mae        rmse        r2  \n",
       "0  72.582751   98.870906  0.849240  \n",
       "1  73.576119   97.315934  0.861528  \n",
       "2  76.185053  102.090123  0.842965  \n",
       "3  72.582751   98.870906  0.849240  \n",
       "4  73.576119   97.315934  0.861528  \n",
       "5  76.185053  102.090123  0.842965  "
      ]
     },
     "execution_count": 37,
     "metadata": {},
     "output_type": "execute_result"
    }
   ],
   "source": [
    "df_model_for_asii"
   ]
  },
  {
   "cell_type": "code",
   "execution_count": 51,
   "metadata": {},
   "outputs": [
    {
     "name": "stdout",
     "output_type": "stream",
     "text": [
      "min mse 9470.391034433918\n",
      "min mae 72.58275054603494\n",
      "min rmse 97.31593412403704\n",
      "max mse 0.861528217792511\n"
     ]
    }
   ],
   "source": [
    "print('min','mse',min(df_model_for_asii['mse'])) #nomor 0 asii_5_200_0_100_8.h5\t\n",
    "print('min','mae',min(df_model_for_asii['mae']))#nomor 1 asii_1_100_0.2_100_8.h5\t\n",
    "print('min','rmse',min(df_model_for_asii['rmse']))#nomor 7 asii_5_200_0_100_8.h5\t\n",
    "print('max','mse',max(df_model_for_asii['r2'])) #nomor 4 asii_1_200_0_100_8.h5"
   ]
  },
  {
   "cell_type": "code",
   "execution_count": 39,
   "metadata": {},
   "outputs": [
    {
     "name": "stdout",
     "output_type": "stream",
     "text": [
      "mae    0\n",
      "dtype: int64\n",
      "mse    1\n",
      "dtype: int64\n",
      "rmse    1\n",
      "dtype: int64\n",
      "r2    2\n",
      "dtype: int64\n"
     ]
    }
   ],
   "source": [
    "print(df_model_for_asii[['mae']].idxmin())\n",
    "print(df_model_for_asii[['mse']].idxmin())\n",
    "print(df_model_for_asii[['rmse']].idxmin()) \n",
    "print(df_model_for_asii[['r2']].idxmin())"
   ]
  },
  {
   "cell_type": "markdown",
   "metadata": {},
   "source": [
    "AMRT"
   ]
  },
  {
   "cell_type": "code",
   "execution_count": 52,
   "metadata": {},
   "outputs": [
    {
     "name": "stdout",
     "output_type": "stream",
     "text": [
      "    Unnamed: 0               model_name stock  timestep          mse  \\\n",
      "6            6  amrt_1_100_0.2_200_8.h5  amrt         7  2200.603790   \n",
      "7            7    amrt_1_200_0_100_8.h5  amrt         7  2377.415462   \n",
      "8            8    amrt_1_300_0_100_8.h5  amrt         7  2118.542900   \n",
      "9            9  amrt_1_100_0.2_200_8.h5  amrt         7  2200.603790   \n",
      "10          10    amrt_1_200_0_100_8.h5  amrt         7  2377.415462   \n",
      "11          11    amrt_1_300_0_100_8.h5  amrt         7  2118.542900   \n",
      "\n",
      "          mae       rmse        r2  \n",
      "6   34.985236  46.910594  0.767622  \n",
      "7   37.017302  48.758748  0.767850  \n",
      "8   34.468771  46.027632  0.769102  \n",
      "9   34.985236  46.910594  0.767622  \n",
      "10  37.017302  48.758748  0.767850  \n",
      "11  34.468771  46.027632  0.769102  \n",
      "mae    8\n",
      "dtype: int64\n",
      "mse    8\n",
      "dtype: int64\n",
      "rmse    8\n",
      "dtype: int64\n",
      "r2    8\n",
      "dtype: int64\n"
     ]
    }
   ],
   "source": [
    "df_model_for_amrt = df_list_model.loc[df_list_model['stock'] == 'amrt']\n",
    "print(df_model_for_amrt)\n",
    "print(df_model_for_amrt[['mae']].idxmin())\n",
    "print(df_model_for_amrt[['mse']].idxmin())\n",
    "print(df_model_for_amrt[['rmse']].idxmin()) \n",
    "print(df_model_for_amrt[['r2']].idxmax())"
   ]
  },
  {
   "cell_type": "markdown",
   "metadata": {},
   "source": [
    "UNTR"
   ]
  },
  {
   "cell_type": "code",
   "execution_count": 53,
   "metadata": {},
   "outputs": [
    {
     "name": "stdout",
     "output_type": "stream",
     "text": [
      "    Unnamed: 0               model_name stock  timestep            mse  \\\n",
      "12          12  untr_1_100_0.2_100_8.h5  untr        30  150001.961175   \n",
      "13          13    untr_1_100_0_200_8.h5  untr        30  145001.895442   \n",
      "14          14  untr_1_100_0.2_100_8.h5  untr        30  150001.961175   \n",
      "15          15    untr_1_100_0_200_8.h5  untr        30  145001.895442   \n",
      "\n",
      "           mae        rmse        r2  \n",
      "12  275.001134  387.300866  0.841646  \n",
      "13  267.479335  380.791144  0.833858  \n",
      "14  275.001134  387.300866  0.841646  \n",
      "15  267.479335  380.791144  0.833858  \n",
      "mae    13\n",
      "dtype: int64\n",
      "mse    13\n",
      "dtype: int64\n",
      "rmse    13\n",
      "dtype: int64\n",
      "r2    12\n",
      "dtype: int64\n"
     ]
    }
   ],
   "source": [
    "df_model_for_untr = df_list_model.loc[df_list_model['stock'] == 'untr']\n",
    "print(df_model_for_untr)\n",
    "print(df_model_for_untr[['mae']].idxmin())\n",
    "print(df_model_for_untr[['mse']].idxmin())\n",
    "print(df_model_for_untr[['rmse']].idxmin()) \n",
    "print(df_model_for_untr[['r2']].idxmax())"
   ]
  },
  {
   "cell_type": "markdown",
   "metadata": {},
   "source": [
    "UNVR"
   ]
  },
  {
   "cell_type": "code",
   "execution_count": 54,
   "metadata": {},
   "outputs": [
    {
     "name": "stdout",
     "output_type": "stream",
     "text": [
      "    Unnamed: 0               model_name stock  timestep          mse  \\\n",
      "16          16  unvr_1_100_0.2_100_8.h5  unvr        30  7991.925865   \n",
      "17          17    unvr_1_100_0_100_8.h5  unvr        30  7319.492430   \n",
      "18          18  unvr_1_100_0.2_100_8.h5  unvr        30  7991.925865   \n",
      "19          19    unvr_1_100_0_100_8.h5  unvr        30  7319.492430   \n",
      "\n",
      "          mae       rmse        r2  \n",
      "16  65.740568  89.397572  0.911869  \n",
      "17  56.427120  85.554032  0.930115  \n",
      "18  65.740568  89.397572  0.911869  \n",
      "19  56.427120  85.554032  0.930115  \n",
      "mae    17\n",
      "dtype: int64\n",
      "mse    17\n",
      "dtype: int64\n",
      "rmse    17\n",
      "dtype: int64\n",
      "r2    17\n",
      "dtype: int64\n"
     ]
    }
   ],
   "source": [
    "df_model_for_unvr = df_list_model.loc[df_list_model['stock'] == 'unvr']\n",
    "print(df_model_for_unvr)\n",
    "print(df_model_for_unvr[['mae']].idxmin())\n",
    "print(df_model_for_unvr[['mse']].idxmin())\n",
    "print(df_model_for_unvr[['rmse']].idxmin()) \n",
    "print(df_model_for_unvr[['r2']].idxmax())"
   ]
  },
  {
   "cell_type": "markdown",
   "metadata": {},
   "source": [
    "MAPI"
   ]
  },
  {
   "cell_type": "code",
   "execution_count": 43,
   "metadata": {},
   "outputs": [
    {
     "name": "stdout",
     "output_type": "stream",
     "text": [
      "    Unnamed: 0             model_name stock  timestep          mse        mae  \\\n",
      "20          20  mapi_1_100_0_100_8.h5  mapi        30  2269.772864  37.879820   \n",
      "21          21  mapi_1_100_0_200_8.h5  mapi        30  2205.399238  37.313196   \n",
      "22          22  mapi_1_100_0_100_8.h5  mapi        30  2269.772864  37.879820   \n",
      "23          23  mapi_1_100_0_200_8.h5  mapi        30  2205.399238  37.313196   \n",
      "\n",
      "         rmse        r2  \n",
      "20  47.642133  0.930353  \n",
      "21  46.961678  0.933229  \n",
      "22  47.642133  0.930353  \n",
      "23  46.961678  0.933229  \n",
      "mae    21\n",
      "dtype: int64\n",
      "mse    21\n",
      "dtype: int64\n",
      "rmse    21\n",
      "dtype: int64\n",
      "r2    21\n",
      "dtype: int64\n"
     ]
    }
   ],
   "source": [
    "df_model_for_mapi = df_list_model.loc[df_list_model['stock'] == 'mapi']\n",
    "print(df_model_for_mapi)\n",
    "print(df_model_for_mapi[['mae']].idxmin())\n",
    "print(df_model_for_mapi[['mse']].idxmin())\n",
    "print(df_model_for_mapi[['rmse']].idxmin()) \n",
    "print(df_model_for_mapi[['r2']].idxmax())"
   ]
  },
  {
   "cell_type": "code",
   "execution_count": 44,
   "metadata": {},
   "outputs": [
    {
     "name": "stdout",
     "output_type": "stream",
     "text": [
      "    Unnamed: 0              model_name stock  timestep           mse  \\\n",
      "24          24  inkp_1_100_0_200_32.h5  inkp         7  38612.168364   \n",
      "25          25   inkp_5_200_0_100_8.h5  inkp         7  39911.771816   \n",
      "26          26  inkp_1_100_0_200_32.h5  inkp         7  38612.168364   \n",
      "27          27   inkp_5_200_0_100_8.h5  inkp         7  39911.771816   \n",
      "\n",
      "           mae        rmse        r2  \n",
      "24  145.453881  196.499792  0.931529  \n",
      "25  147.447796  199.779308  0.932127  \n",
      "26  145.453881  196.499792  0.931529  \n",
      "27  147.447796  199.779308  0.932127  \n",
      "mae    24\n",
      "dtype: int64\n",
      "mse    24\n",
      "dtype: int64\n",
      "rmse    24\n",
      "dtype: int64\n",
      "r2    25\n",
      "dtype: int64\n"
     ]
    }
   ],
   "source": [
    "df_model_for_inkp = df_list_model.loc[df_list_model['stock'] == 'inkp']\n",
    "print(df_model_for_inkp)\n",
    "print(df_model_for_inkp[['mae']].idxmin())\n",
    "print(df_model_for_inkp[['mse']].idxmin())\n",
    "print(df_model_for_inkp[['rmse']].idxmin()) \n",
    "print(df_model_for_inkp[['r2']].idxmax())"
   ]
  },
  {
   "cell_type": "code",
   "execution_count": 45,
   "metadata": {},
   "outputs": [
    {
     "name": "stdout",
     "output_type": "stream",
     "text": [
      "    Unnamed: 0                model_name stock  timestep           mse  \\\n",
      "28          28  intp_1_100_0.2_100_32.h5  intp        30  28788.164977   \n",
      "29          29  intp_1_100_0.2_100_32.h5  intp        30  28788.164977   \n",
      "\n",
      "           mae        rmse        r2  \n",
      "28  126.397587  169.670755  0.954276  \n",
      "29  126.397587  169.670755  0.954276  \n",
      "mae    28\n",
      "dtype: int64\n",
      "mse    28\n",
      "dtype: int64\n",
      "rmse    28\n",
      "dtype: int64\n",
      "r2    28\n",
      "dtype: int64\n"
     ]
    }
   ],
   "source": [
    "df_model_for_intp = df_list_model.loc[df_list_model['stock'] == 'intp']\n",
    "print(df_model_for_intp)\n",
    "print(df_model_for_intp[['mae']].idxmin())\n",
    "print(df_model_for_intp[['mse']].idxmin())\n",
    "print(df_model_for_intp[['rmse']].idxmin()) \n",
    "print(df_model_for_intp[['r2']].idxmax())"
   ]
  },
  {
   "cell_type": "code",
   "execution_count": 46,
   "metadata": {},
   "outputs": [
    {
     "name": "stdout",
     "output_type": "stream",
     "text": [
      "    Unnamed: 0             model_name stock  timestep         mse        mae  \\\n",
      "30          30  aces_5_100_0_100_8.h5  aces        30  516.984978  16.893649   \n",
      "31          31  aces_5_200_0_100_8.h5  aces         7  418.337699  14.805523   \n",
      "32          32  aces_5_100_0_100_8.h5  aces        30  516.984978  16.893649   \n",
      "33          33  aces_5_200_0_100_8.h5  aces         7  418.337699  14.805523   \n",
      "\n",
      "         rmse        r2  \n",
      "30  22.737304  0.831889  \n",
      "31  20.453305  0.887775  \n",
      "32  22.737304  0.831889  \n",
      "33  20.453305  0.887775  \n",
      "mae    31\n",
      "dtype: int64\n",
      "mse    31\n",
      "dtype: int64\n",
      "rmse    31\n",
      "dtype: int64\n",
      "r2    30\n",
      "dtype: int64\n"
     ]
    }
   ],
   "source": [
    "df_model_for_aces = df_list_model.loc[df_list_model['stock'] == 'aces']\n",
    "print(df_model_for_aces)\n",
    "print(df_model_for_aces[['mae']].idxmin())\n",
    "print(df_model_for_aces[['mse']].idxmin())\n",
    "print(df_model_for_aces[['rmse']].idxmin()) \n",
    "print(df_model_for_aces[['r2']].idxmin())"
   ]
  },
  {
   "cell_type": "code",
   "execution_count": 47,
   "metadata": {},
   "outputs": [
    {
     "name": "stdout",
     "output_type": "stream",
     "text": [
      "    Unnamed: 0             model_name stock  timestep         mse       mae  \\\n",
      "34          34  sido_1_200_0_100_8.h5  sido         7  124.250084  8.427123   \n",
      "35          35  sido_1_300_0_100_8.h5  sido         7  130.428907  8.113440   \n",
      "36          36  sido_1_200_0_100_8.h5  sido         7  124.250084  8.427123   \n",
      "37          37  sido_1_300_0_100_8.h5  sido         7  130.428907  8.113440   \n",
      "\n",
      "         rmse        r2  \n",
      "34  11.146752  0.980817  \n",
      "35  11.420548  0.979039  \n",
      "36  11.146752  0.980817  \n",
      "37  11.420548  0.979039  \n",
      "mae    35\n",
      "dtype: int64\n",
      "mse    34\n",
      "dtype: int64\n",
      "rmse    34\n",
      "dtype: int64\n",
      "r2    34\n",
      "dtype: int64\n"
     ]
    }
   ],
   "source": [
    "df_model_for_sido = df_list_model.loc[df_list_model['stock'] == 'sido']\n",
    "print(df_model_for_sido)\n",
    "print(df_model_for_sido[['mae']].idxmin())\n",
    "print(df_model_for_sido[['mse']].idxmin())\n",
    "print(df_model_for_sido[['rmse']].idxmin()) \n",
    "print(df_model_for_sido[['r2']].idxmax())"
   ]
  },
  {
   "cell_type": "code",
   "execution_count": 48,
   "metadata": {},
   "outputs": [
    {
     "name": "stdout",
     "output_type": "stream",
     "text": [
      "    Unnamed: 0             model_name stock  timestep          mse        mae  \\\n",
      "38          38  hrum_1_100_0_100_8.h5  hrum         7  1561.141423  29.524639   \n",
      "39          39  hrum_1_200_0_100_8.h5  hrum         7  1899.605344  34.679235   \n",
      "40          40  hrum_1_100_0_100_8.h5  hrum         7  1561.141423  29.524639   \n",
      "41          41  hrum_1_200_0_100_8.h5  hrum         7  1899.605344  34.679235   \n",
      "\n",
      "         rmse        r2  \n",
      "38  39.511282  0.805080  \n",
      "39  43.584462  0.804368  \n",
      "40  39.511282  0.805080  \n",
      "41  43.584462  0.804368  \n",
      "mae    38\n",
      "dtype: int64\n",
      "mse    38\n",
      "dtype: int64\n",
      "rmse    38\n",
      "dtype: int64\n",
      "r2    38\n",
      "dtype: int64\n"
     ]
    }
   ],
   "source": [
    "df_model_for_hrum = df_list_model.loc[df_list_model['stock'] == 'hrum']\n",
    "print(df_model_for_hrum)\n",
    "print(df_model_for_hrum[['mae']].idxmin())\n",
    "print(df_model_for_hrum[['mse']].idxmin())\n",
    "print(df_model_for_hrum[['rmse']].idxmin()) \n",
    "print(df_model_for_hrum[['r2']].idxmax())"
   ]
  },
  {
   "cell_type": "code",
   "execution_count": 49,
   "metadata": {},
   "outputs": [
    {
     "name": "stdout",
     "output_type": "stream",
     "text": [
      "    Unnamed: 0             model_name stock  timestep          mse        mae  \\\n",
      "38          38  hrum_1_100_0_100_8.h5  hrum         7  1561.141423  29.524639   \n",
      "39          39  hrum_1_200_0_100_8.h5  hrum         7  1899.605344  34.679235   \n",
      "40          40  hrum_1_100_0_100_8.h5  hrum         7  1561.141423  29.524639   \n",
      "41          41  hrum_1_200_0_100_8.h5  hrum         7  1899.605344  34.679235   \n",
      "\n",
      "         rmse        r2  \n",
      "38  39.511282  0.805080  \n",
      "39  43.584462  0.804368  \n",
      "40  39.511282  0.805080  \n",
      "41  43.584462  0.804368  \n",
      "mae    38\n",
      "dtype: int64\n",
      "mse    38\n",
      "dtype: int64\n",
      "rmse    38\n",
      "dtype: int64\n",
      "r2    38\n",
      "dtype: int64\n"
     ]
    }
   ],
   "source": [
    "df_model_for_hrum = df_list_model.loc[df_list_model['stock'] == 'hrum']\n",
    "print(df_model_for_hrum)\n",
    "print(df_model_for_hrum[['mae']].idxmin())\n",
    "print(df_model_for_hrum[['mse']].idxmin())\n",
    "print(df_model_for_hrum[['rmse']].idxmin()) \n",
    "print(df_model_for_hrum[['r2']].idxmax())"
   ]
  },
  {
   "cell_type": "code",
   "execution_count": null,
   "metadata": {},
   "outputs": [],
   "source": []
  }
 ],
 "metadata": {
  "kernelspec": {
   "display_name": "Python 3",
   "language": "python",
   "name": "python3"
  },
  "language_info": {
   "codemirror_mode": {
    "name": "ipython",
    "version": 3
   },
   "file_extension": ".py",
   "mimetype": "text/x-python",
   "name": "python",
   "nbconvert_exporter": "python",
   "pygments_lexer": "ipython3",
   "version": "3.11.4"
  }
 },
 "nbformat": 4,
 "nbformat_minor": 2
}
